{
 "cells": [
  {
   "cell_type": "code",
   "execution_count": 1,
   "metadata": {},
   "outputs": [],
   "source": [
    "%matplotlib inline"
   ]
  },
  {
   "cell_type": "markdown",
   "metadata": {},
   "source": [
    "\n",
    "# Neighborhood Components Analysis Illustration\n",
    "\n",
    "This example illustrates a learned distance metric that maximizes\n",
    "the nearest neighbors classification accuracy. It provides a visual\n",
    "representation of this metric compared to the original point\n",
    "space. Please refer to the `User Guide <nca>` for more information.\n"
   ]
  },
  {
   "cell_type": "code",
   "execution_count": 2,
   "metadata": {},
   "outputs": [
    {
     "name": "stdout",
     "output_type": "stream",
     "text": [
      "Automatically created module for IPython interactive environment\n"
     ]
    }
   ],
   "source": [
    "# License: BSD 3 clause\n",
    "\n",
    "import numpy as np\n",
    "import matplotlib.pyplot as plt\n",
    "from sklearn.datasets import make_classification\n",
    "from sklearn.neighbors import NeighborhoodComponentsAnalysis\n",
    "from matplotlib import cm\n",
    "from scipy.special import logsumexp\n",
    "\n",
    "print(__doc__)"
   ]
  },
  {
   "cell_type": "markdown",
   "metadata": {},
   "source": [
    "## Original points\n",
    "First we create a data set of 9 samples from 3 classes, and plot the points\n",
    "in the original space. For this example, we focus on the classification of\n",
    "point no. 3. The thickness of a link between point no. 3 and another point\n",
    "is proportional to their distance.\n",
    "\n"
   ]
  },
  {
   "cell_type": "code",
   "execution_count": 3,
   "metadata": {},
   "outputs": [
    {
     "data": {
      "image/png": "[encoded data removed]",
      "text/plain": [
       "<Figure size 432x288 with 1 Axes>"
      ]
     },
     "metadata": {
      "needs_background": "light"
     },
     "output_type": "display_data"
    }
   ],
   "source": [
    "X, y = make_classification(n_samples=9, n_features=2, n_informative=2,\n",
    "                           n_redundant=0, n_classes=3, n_clusters_per_class=1,\n",
    "                           class_sep=1.0, random_state=0)\n",
    "\n",
    "plt.figure(1)\n",
    "ax = plt.gca()\n",
    "for i in range(X.shape[0]):\n",
    "    ax.text(X[i, 0], X[i, 1], str(i), va='center', ha='center')\n",
    "    ax.scatter(X[i, 0], X[i, 1], s=300, c=cm.Set1(y[[i]]), alpha=0.4)\n",
    "\n",
    "ax.set_title(\"Original points\")\n",
    "ax.axes.get_xaxis().set_visible(False)\n",
    "ax.axes.get_yaxis().set_visible(False)\n",
    "ax.axis('equal')  # so that boundaries are displayed correctly as circles\n",
    "\n",
    "\n",
    "def link_thickness_i(X, i):\n",
    "    diff_embedded = X[i] - X\n",
    "    dist_embedded = np.einsum('ij,ij->i', diff_embedded,\n",
    "                              diff_embedded)\n",
    "    dist_embedded[i] = np.inf\n",
    "\n",
    "    # compute exponentiated distances (use the log-sum-exp trick to\n",
    "    # avoid numerical instabilities\n",
    "    exp_dist_embedded = np.exp(-dist_embedded -\n",
    "                               logsumexp(-dist_embedded))\n",
    "    return exp_dist_embedded\n",
    "\n",
    "\n",
    "def relate_point(X, i, ax):\n",
    "    pt_i = X[i]\n",
    "    for j, pt_j in enumerate(X):\n",
    "        thickness = link_thickness_i(X, i)\n",
    "        if i != j:\n",
    "            line = ([pt_i[0], pt_j[0]], [pt_i[1], pt_j[1]])\n",
    "            ax.plot(*line, c=cm.Set1(y[j]),\n",
    "                    linewidth=5*thickness[j])\n",
    "\n",
    "\n",
    "i = 3\n",
    "relate_point(X, i, ax)\n",
    "plt.show()"
   ]
  },
  {
   "cell_type": "markdown",
   "metadata": {},
   "source": [
    "## Learning an embedding\n",
    "We use :class:`~sklearn.neighbors.NeighborhoodComponentsAnalysis` to learn an\n",
    "embedding and plot the points after the transformation. We then take the\n",
    "embedding and find the nearest neighbors.\n",
    "\n"
   ]
  },
  {
   "cell_type": "code",
   "execution_count": 4,
   "metadata": {},
   "outputs": [
    {
     "data": {
      "image/png": "[encoded data removed]",
      "text/plain": [
       "<Figure size 432x288 with 1 Axes>"
      ]
     },
     "metadata": {
      "needs_background": "light"
     },
     "output_type": "display_data"
    }
   ],
   "source": [
    "nca = NeighborhoodComponentsAnalysis(max_iter=30, random_state=0)\n",
    "nca = nca.fit(X, y)\n",
    "\n",
    "plt.figure(2)\n",
    "ax2 = plt.gca()\n",
    "X_embedded = nca.transform(X)\n",
    "relate_point(X_embedded, i, ax2)\n",
    "\n",
    "for i in range(len(X)):\n",
    "    ax2.text(X_embedded[i, 0], X_embedded[i, 1], str(i),\n",
    "             va='center', ha='center')\n",
    "    ax2.scatter(X_embedded[i, 0], X_embedded[i, 1], s=300, c=cm.Set1(y[[i]]),\n",
    "                alpha=0.4)\n",
    "\n",
    "ax2.set_title(\"NCA embedding\")\n",
    "ax2.axes.get_xaxis().set_visible(False)\n",
    "ax2.axes.get_yaxis().set_visible(False)\n",
    "ax2.axis('equal')\n",
    "plt.show()"
   ]
  }
 ],
 "metadata": {
  "kernelspec": {
   "display_name": "Python 3",
   "language": "python",
   "name": "python3"
  },
  "language_info": {
   "codemirror_mode": {
    "name": "ipython",
    "version": 3
   },
   "file_extension": ".py",
   "mimetype": "text/x-python",
   "name": "python",
   "nbconvert_exporter": "python",
   "pygments_lexer": "ipython3",
   "version": "3.8.3"
  }
 },
 "nbformat": 4,
 "nbformat_minor": 1
}
